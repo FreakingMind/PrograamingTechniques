{
 "cells": [
  {
   "cell_type": "markdown",
   "metadata": {},
   "source": [
    "# Лабороторная работа 2. Вариант 3. \n",
    "Алгоритмы поиска  \n",
    "Поиск: линейный, бинарный (для массива до и после сортировки)"
   ]
  },
  {
   "cell_type": "code",
   "execution_count": 17,
   "metadata": {
    "ExecuteTime": {
     "end_time": "2020-05-30T20:02:17.203588Z",
     "start_time": "2020-05-30T20:02:17.196867Z"
    }
   },
   "outputs": [],
   "source": [
    "import time\n",
    "import matplotlib.pyplot as plt\n",
    "import seaborn as sns\n",
    "import numpy as np\n",
    "import pandas as pd\n",
    "import matplotlib.pyplot as plt\n",
    "import random\n",
    "sns.set(style=\"darkgrid\")"
   ]
  },
  {
   "cell_type": "code",
   "execution_count": 18,
   "metadata": {
    "ExecuteTime": {
     "end_time": "2020-05-30T20:02:17.504764Z",
     "start_time": "2020-05-30T20:02:17.500804Z"
    }
   },
   "outputs": [],
   "source": [
    "sizes_of_dataset = np.array(\n",
    "    [100, 500, 1000, 5000, 10000, 30000, 50000, 100000]) #объем данных"
   ]
  },
  {
   "cell_type": "markdown",
   "metadata": {},
   "source": [
    "## Класс и перегрузка операторов "
   ]
  },
  {
   "cell_type": "code",
   "execution_count": 47,
   "metadata": {
    "ExecuteTime": {
     "end_time": "2020-05-30T20:11:47.209416Z",
     "start_time": "2020-05-30T20:11:47.200706Z"
    },
    "code_folding": []
   },
   "outputs": [],
   "source": [
    "class Accounting:\n",
    "    \"\"\"\n",
    "    Класс из ЛР1\n",
    "    \"\"\"\n",
    "    def __init__(self, name, position, place, salary):\n",
    "        self.name = name\n",
    "        self.position = position\n",
    "        self.place = place\n",
    "        self.salary = salary\n",
    "\n",
    "    def __eq__(self, other):\n",
    "        if self.name == other:\n",
    "            return True\n",
    "        return False\n",
    "\n",
    "    def __gt__(self, other):\n",
    "        if self.name >= other:\n",
    "            return True\n",
    "        return False\n",
    "\n",
    "    def __ge__(self, other):\n",
    "        if self.name > other:\n",
    "            return True\n",
    "        return False\n",
    "\n",
    "    def __le__(self, other):\n",
    "        if self.name < other:\n",
    "            return True\n",
    "        return False\n",
    "\n",
    "    def __lt__(self, other):\n",
    "        if self.name <= other:\n",
    "            return True\n",
    "        return False\n",
    "\n",
    "    def __repr__(self):\n",
    "        return '%r' % self.__dict__"
   ]
  },
  {
   "cell_type": "markdown",
   "metadata": {},
   "source": [
    "## Алгоритмы поиска "
   ]
  },
  {
   "cell_type": "code",
   "execution_count": 20,
   "metadata": {
    "ExecuteTime": {
     "end_time": "2020-05-30T20:02:18.949480Z",
     "start_time": "2020-05-30T20:02:18.943177Z"
    }
   },
   "outputs": [],
   "source": [
    "def linearsearch(data, strop):\n",
    "    \"\"\" Алгоритм линейного  поиска\n",
    "        data - массив данных\n",
    "        strop - искомый элемент\n",
    "        linearsearch(data,strop) -> None\n",
    "    \"\"\"\n",
    "    for i in data:\n",
    "        if i == strop:\n",
    "            print(i)\n",
    "\n",
    "\n",
    "def binsearch(data, strop):\n",
    "    \"\"\"Алгоритм бирарного поиска\n",
    "        data - массив данных\n",
    "        strop - искомый элемент\n",
    "        binsearch(data,strop) -> None\n",
    "    \n",
    "    \"\"\"\n",
    "    if len(data) == 0:\n",
    "        return 0\n",
    "    middle = len(data) // 2\n",
    "    if data[middle] == strop:\n",
    "        print(data[middle])\n",
    "    if data[middle] >= strop:\n",
    "        binsearch(data[:middle], strop)\n",
    "    if data[middle] <= strop:\n",
    "        binsearch(data[middle + 1:], strop)"
   ]
  },
  {
   "cell_type": "code",
   "execution_count": 21,
   "metadata": {
    "ExecuteTime": {
     "end_time": "2020-05-30T20:02:19.351715Z",
     "start_time": "2020-05-30T20:02:19.347701Z"
    }
   },
   "outputs": [
    {
     "name": "stdout",
     "output_type": "stream",
     "text": [
      " Алгоритм линейного  поиска\n",
      "        data - массив данных\n",
      "        strop - искомый элемент\n",
      "        linearsearch(data,strop) -> None\n",
      "    \n",
      "Алгоритм бирарного поиска\n",
      "        data - массив данных\n",
      "        strop - искомый элемент\n",
      "        binsearch(data,strop) -> None\n",
      "    \n",
      "    \n"
     ]
    }
   ],
   "source": [
    "print(linearsearch.__doc__)\n",
    "print(binsearch.__doc__)"
   ]
  },
  {
   "cell_type": "code",
   "execution_count": 22,
   "metadata": {
    "ExecuteTime": {
     "end_time": "2020-05-30T20:02:19.788661Z",
     "start_time": "2020-05-30T20:02:19.779252Z"
    }
   },
   "outputs": [],
   "source": [
    "def merge_sort(data):\n",
    "    \"\"\"\n",
    "    Алгоритм сортировки слиянием\n",
    "    \"\"\"\n",
    "    if len(data) > 1:\n",
    "        middle = len(data) // 2\n",
    "        lefthalf = data[:middle]\n",
    "        righthalf = data[middle:]\n",
    "        merge_sort(lefthalf)\n",
    "        merge_sort(righthalf)\n",
    "        i = 0\n",
    "        j = 0\n",
    "        count = 0\n",
    "        while i < len(lefthalf) and j < len(righthalf):\n",
    "            if lefthalf[i] < righthalf[j]:\n",
    "                data[count] = lefthalf[i]\n",
    "                i = i + 1\n",
    "            else:\n",
    "                data[count] = righthalf[j]\n",
    "                j = j + 1\n",
    "            count = count + 1\n",
    "\n",
    "        while i < len(lefthalf):\n",
    "            data[count] = lefthalf[i]\n",
    "            i = i + 1\n",
    "            count = count + 1\n",
    "\n",
    "        while j < len(righthalf):\n",
    "            data[count] = righthalf[j]\n",
    "            j = j + 1\n",
    "            count = count + 1\n",
    "    return data"
   ]
  },
  {
   "cell_type": "markdown",
   "metadata": {},
   "source": [
    "## Поиск "
   ]
  },
  {
   "cell_type": "code",
   "execution_count": 48,
   "metadata": {
    "ExecuteTime": {
     "end_time": "2020-05-30T20:12:58.009971Z",
     "start_time": "2020-05-30T20:11:51.371444Z"
    }
   },
   "outputs": [
    {
     "name": "stdout",
     "output_type": "stream",
     "text": [
      "-------------Датафрейм объема 100, ищем Гаврилова Стоян Васильевич--------------\n",
      "Бинарный поиск с сортировкой\n",
      "{'name': 'Гаврилова Стоян Васильевич', 'position': 'middle', 'place': 'fobut', 'salary': 34124}\n",
      "Линейный поиск\n",
      "{'name': 'Гаврилова Стоян Васильевич', 'position': 'middle', 'place': 'fobut', 'salary': 34124}\n",
      "Бинарный поиск в отсортированном\n",
      "{'name': 'Гаврилова Стоян Васильевич', 'position': 'middle', 'place': 'fobut', 'salary': 34124}\n",
      "----------------Датафрейм объема 500, ищем Лукина Софон Львовна-----------------\n",
      "Бинарный поиск с сортировкой\n",
      "{'name': 'Лукина Софон Львовна', 'position': 'senior', 'place': 'yfuhl', 'salary': 42475}\n",
      "Линейный поиск\n",
      "{'name': 'Лукина Софон Львовна', 'position': 'senior', 'place': 'yfuhl', 'salary': 42475}\n",
      "Бинарный поиск в отсортированном\n",
      "{'name': 'Лукина Софон Львовна', 'position': 'senior', 'place': 'yfuhl', 'salary': 42475}\n",
      "---------------Датафрейм объема 1000, ищем Евсеева Остап Фролович---------------\n",
      "Бинарный поиск с сортировкой\n",
      "{'name': 'Евсеева Остап Фролович', 'position': 'junior', 'place': 'iuubl', 'salary': 32541}\n",
      "Линейный поиск\n",
      "{'name': 'Евсеева Остап Фролович', 'position': 'junior', 'place': 'iuubl', 'salary': 32541}\n",
      "Бинарный поиск в отсортированном\n",
      "{'name': 'Евсеева Остап Фролович', 'position': 'junior', 'place': 'iuubl', 'salary': 32541}\n",
      "-------------Датафрейм объема 5000, ищем Романов Анжела Ануфриевич--------------\n",
      "Бинарный поиск с сортировкой\n",
      "{'name': 'Романов Анжела Ануфриевич', 'position': 'junior', 'place': 'svuks', 'salary': 28043}\n",
      "Линейный поиск\n",
      "{'name': 'Романов Анжела Ануфриевич', 'position': 'junior', 'place': 'svuks', 'salary': 28043}\n",
      "Бинарный поиск в отсортированном\n",
      "{'name': 'Романов Анжела Ануфриевич', 'position': 'junior', 'place': 'svuks', 'salary': 28043}\n",
      "------------Датафрейм объема 10000, ищем Антонов Виталий Викентьевич------------\n",
      "Бинарный поиск с сортировкой\n",
      "{'name': 'Антонов Виталий Викентьевич', 'position': 'junior', 'place': 'hwyno', 'salary': 43251}\n",
      "Линейный поиск\n",
      "{'name': 'Антонов Виталий Викентьевич', 'position': 'junior', 'place': 'hwyno', 'salary': 43251}\n",
      "Бинарный поиск в отсортированном\n",
      "{'name': 'Антонов Виталий Викентьевич', 'position': 'junior', 'place': 'hwyno', 'salary': 43251}\n",
      "------------Датафрейм объема 30000, ищем Соболева Касьян Аверьянович------------\n",
      "Бинарный поиск с сортировкой\n",
      "{'name': 'Соболева Касьян Аверьянович', 'position': 'middle', 'place': 'rgzcx', 'salary': 38736}\n",
      "Линейный поиск\n",
      "{'name': 'Соболева Касьян Аверьянович', 'position': 'middle', 'place': 'rgzcx', 'salary': 38736}\n",
      "Бинарный поиск в отсортированном\n",
      "{'name': 'Соболева Касьян Аверьянович', 'position': 'middle', 'place': 'rgzcx', 'salary': 38736}\n",
      "------------Датафрейм объема 50000, ищем Панфилова Мария Руслановна-------------\n",
      "Бинарный поиск с сортировкой\n",
      "{'name': 'Панфилова Мария Руслановна', 'position': 'senior', 'place': 'ehmid', 'salary': 27534}\n",
      "Линейный поиск\n",
      "{'name': 'Панфилова Мария Руслановна', 'position': 'senior', 'place': 'ehmid', 'salary': 27534}\n",
      "Бинарный поиск в отсортированном\n",
      "{'name': 'Панфилова Мария Руслановна', 'position': 'senior', 'place': 'ehmid', 'salary': 27534}\n",
      "-------------Датафрейм объема 100000, ищем Симонов Устин Алексеевна-------------\n",
      "Бинарный поиск с сортировкой\n",
      "{'name': 'Симонов Устин Алексеевна', 'position': 'middle', 'place': 'keket', 'salary': 45140}\n",
      "Линейный поиск\n",
      "{'name': 'Симонов Устин Алексеевна', 'position': 'middle', 'place': 'keket', 'salary': 45140}\n",
      "Бинарный поиск в отсортированном\n",
      "{'name': 'Симонов Устин Алексеевна', 'position': 'middle', 'place': 'keket', 'salary': 45140}\n"
     ]
    }
   ],
   "source": [
    "sizes_of_dataset = np.array(\n",
    "    [100, 500, 1000, 5000, 10000, 30000, 50000, 100000])\n",
    "binsearch_in_unsorted, binsearch_in_sorted, linear_search_time = [], [], []\n",
    "for size_of_data in sizes_of_dataset:\n",
    "    df = pd.read_csv(f'Data/dataset{size_of_data}.csv', encoding='cp1251')\n",
    "    findings = random.choice(df['ФИО'])\n",
    "    print(f'Датафрейм объема {size_of_data}, ищем {findings}'.center(80, '-'))\n",
    "    list_of_classes = []\n",
    "    for i in range(1, len(df)):\n",
    "        strin = df.iloc[i]\n",
    "        list_of_classes.append(\n",
    "            Accounting(name=strin['ФИО'],\n",
    "                       position=strin['Должность'],\n",
    "                       place=strin['Подразделение'],\n",
    "                       salary=strin['Зарплата']))\n",
    "\n",
    "    print('Бинарный поиск с сортировкой')\n",
    "    start_time = time.time()\n",
    "    list_of_classes_sorted = merge_sort(list_of_classes)\n",
    "    binsearch(list_of_classes_sorted, findings)\n",
    "    zx = time.time() - start_time\n",
    "    binsearch_in_unsorted.append(zx)\n",
    "\n",
    "    print('Линейный поиск')\n",
    "    start_time = time.time()\n",
    "    linearsearch(list_of_classes, findings)\n",
    "    zy = time.time() - start_time\n",
    "    linear_search_time.append(zy)\n",
    "\n",
    "    print('Бинарный поиск в отсортированном')\n",
    "    start_time = time.time()\n",
    "    binsearch(list_of_classes_sorted, findings)\n",
    "    zz = time.time() - start_time\n",
    "    binsearch_in_sorted.append(zz)"
   ]
  },
  {
   "cell_type": "markdown",
   "metadata": {},
   "source": [
    "## График скорости выполнения "
   ]
  },
  {
   "cell_type": "code",
   "execution_count": 41,
   "metadata": {
    "ExecuteTime": {
     "end_time": "2020-05-30T20:09:40.235699Z",
     "start_time": "2020-05-30T20:09:39.717664Z"
    }
   },
   "outputs": [
    {
     "data": {
      "text/plain": [
       "<matplotlib.legend.Legend at 0x19c51dda908>"
      ]
     },
     "execution_count": 41,
     "metadata": {},
     "output_type": "execute_result"
    },
    {
     "data": {
      "image/png": "[encoded data removed]",
      "text/plain": [
       "<Figure size 1152x576 with 1 Axes>"
      ]
     },
     "metadata": {},
     "output_type": "display_data"
    }
   ],
   "source": [
    "fig, ax = plt.subplots(figsize=(16, 8))\n",
    "ax.plot(sizes_of_dataset,\n",
    "        binsearch_in_unsorted,\n",
    "        label='Бинарный поиск с сортировкой')\n",
    "ax.plot(sizes_of_dataset,\n",
    "        binsearch_in_sorted,\n",
    "        label='Бинарный поиск в отсортированном')\n",
    "ax.plot(sizes_of_dataset, linear_search_time, label='Линейный поиск')\n",
    "ax.legend()"
   ]
  },
  {
   "cell_type": "markdown",
   "metadata": {},
   "source": [
    "## Ассоциативный массив "
   ]
  },
  {
   "cell_type": "code",
   "execution_count": 36,
   "metadata": {
    "ExecuteTime": {
     "end_time": "2020-05-30T20:07:57.286950Z",
     "start_time": "2020-05-30T20:07:38.737976Z"
    }
   },
   "outputs": [
    {
     "name": "stdout",
     "output_type": "stream",
     "text": [
      "------------Датафрейм объема 100, ищем Фролов Твердислав Даниилович-------------\n",
      "['junior', 'sjqqj', 25223]\n",
      "--------------Датафрейм объема 500, ищем Блохин Варлаам Робертовна--------------\n",
      "['senior', 'jlzdn', 26969]\n",
      "-------------Датафрейм объема 1000, ищем Цветкова Людмила Сергеевна-------------\n",
      "['junior', 'uahdy', 35259]\n",
      "------------Датафрейм объема 5000, ищем Филиппова Порфирий Ефимович-------------\n",
      "['middle', 'bdskc', 32685]\n",
      "-------------Датафрейм объема 10000, ищем Шилова Парамон Чеславович-------------\n",
      "['junior', 'sqsxv', 19014]\n",
      "-----------Датафрейм объема 30000, ищем Белоусова Валентин Сергеевна------------\n",
      "['junior', 'fqgvy', 29205]\n",
      "-------------Датафрейм объема 50000, ищем Власова Август Германович-------------\n",
      "['middle', 'yzwcm', 20176]\n",
      "------------Датафрейм объема 100000, ищем Лебедева Федор Аркадьевна-------------\n",
      "['senior', 'guwcf', 38912]\n"
     ]
    }
   ],
   "source": [
    "multimap_time = []\n",
    "for size_of_data in sizes_of_dataset:\n",
    "    dictionary = {}\n",
    "    df = pd.read_csv(f'Data/dataset{size_of_data}.csv', encoding='cp1251')\n",
    "    findings = random.choice(df['ФИО'])\n",
    "    for i in range(len(df)):\n",
    "        if df['ФИО'][i] in dictionary:\n",
    "            dictionary[df['ФИО'][i]].append([\n",
    "                df['Должность'][i], df['Подразделение'][i], df['Зарплата'][i]\n",
    "            ])\n",
    "        else:\n",
    "            dictionary[df['ФИО'][i]] = [\n",
    "                df['Должность'][i], df['Подразделение'][i], df['Зарплата'][i]\n",
    "            ]\n",
    "    start_time = time.time()\n",
    "    x = dictionary.get(findings,'Такого ФИО не сущесвует')\n",
    "    zx = time.time() - start_time\n",
    "    multimap_time.append(zx)\n",
    "    print(f'Датафрейм объема {size_of_data}, ищем {findings}'.center(80, '-'))\n",
    "    print(dictionary[findings])"
   ]
  },
  {
   "cell_type": "code",
   "execution_count": 53,
   "metadata": {
    "ExecuteTime": {
     "end_time": "2020-05-30T20:14:09.921963Z",
     "start_time": "2020-05-30T20:14:09.412159Z"
    }
   },
   "outputs": [
    {
     "data": {
      "text/plain": [
       "<matplotlib.legend.Legend at 0x19c56213588>"
      ]
     },
     "execution_count": 53,
     "metadata": {},
     "output_type": "execute_result"
    },
    {
     "data": {
      "image/png": "[encoded data removed]",
      "text/plain": [
       "<Figure size 1152x576 with 1 Axes>"
      ]
     },
     "metadata": {},
     "output_type": "display_data"
    }
   ],
   "source": [
    "fig, ax = plt.subplots(figsize=(16, 8))\n",
    "ax.plot(sizes_of_dataset, multimap_time, label='MultiMap')\n",
    "ax.plot(sizes_of_dataset,\n",
    "        binsearch_in_sorted,\n",
    "        label='Бинарный поиск в отсортированном')\n",
    "ax.legend()"
   ]
  }
 ],
 "metadata": {
  "kernelspec": {
   "display_name": "Python 3",
   "language": "python",
   "name": "python3"
  },
  "language_info": {
   "codemirror_mode": {
    "name": "ipython",
    "version": 3
   },
   "file_extension": ".py",
   "mimetype": "text/x-python",
   "name": "python",
   "nbconvert_exporter": "python",
   "pygments_lexer": "ipython3",
   "version": "3.7.4"
  },
  "latex_envs": {
   "LaTeX_envs_menu_present": true,
   "autoclose": false,
   "autocomplete": true,
   "bibliofile": "biblio.bib",
   "cite_by": "apalike",
   "current_citInitial": 1,
   "eqLabelWithNumbers": true,
   "eqNumInitial": 1,
   "hotkeys": {
    "equation": "Ctrl-E",
    "itemize": "Ctrl-I"
   },
   "labels_anchors": false,
   "latex_user_defs": false,
   "report_style_numbering": false,
   "user_envs_cfg": false
  },
  "toc": {
   "base_numbering": 1,
   "nav_menu": {},
   "number_sections": true,
   "sideBar": true,
   "skip_h1_title": false,
   "title_cell": "Table of Contents",
   "title_sidebar": "Contents",
   "toc_cell": false,
   "toc_position": {},
   "toc_section_display": true,
   "toc_window_display": false
  }
 },
 "nbformat": 4,
 "nbformat_minor": 2
}

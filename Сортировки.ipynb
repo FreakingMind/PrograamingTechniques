{
 "cells": [
  {
   "cell_type": "markdown",
   "metadata": {},
   "source": [
    "# Лабороторная работа 1. Вариант 3.\n",
    "Cортировка слиянием, Шейкер-Сортировка, Сортировка простыми вставками"
   ]
  },
  {
   "cell_type": "code",
   "execution_count": 1,
   "metadata": {
    "ExecuteTime": {
     "end_time": "2020-05-31T19:46:39.936875Z",
     "start_time": "2020-05-31T19:46:28.959483Z"
    }
   },
   "outputs": [],
   "source": [
    "import numpy as np\n",
    "import pandas as pd\n",
    "import matplotlib.pyplot as plt\n",
    "from faker import Faker\n",
    "from random import choice\n",
    "from string import ascii_lowercase\n",
    "import csv\n",
    "import time\n",
    "import matplotlib.pyplot as plt\n",
    "import seaborn as sns\n",
    "sns.set()"
   ]
  },
  {
   "cell_type": "markdown",
   "metadata": {
    "ExecuteTime": {
     "end_time": "2020-05-30T17:06:29.038693Z",
     "start_time": "2020-05-30T17:06:29.031214Z"
    }
   },
   "source": [
    "Массив данных бухгалтерии:  ФИО служащего, должность, подразделение, месячная зарплата (сравнение по полям – подразделение, ФИО служащего,  зарплата)"
   ]
  },
  {
   "cell_type": "markdown",
   "metadata": {},
   "source": [
    "## Генератор"
   ]
  },
  {
   "cell_type": "code",
   "execution_count": 2,
   "metadata": {
    "ExecuteTime": {
     "end_time": "2020-05-31T19:46:39.949260Z",
     "start_time": "2020-05-31T19:46:39.939892Z"
    }
   },
   "outputs": [],
   "source": [
    "sizes_of_dataset = np.array(\n",
    "    [100, 500, 1000, 5000, 10000, 30000, 50000, 100000]) #Размер данных"
   ]
  },
  {
   "cell_type": "code",
   "execution_count": 3,
   "metadata": {
    "ExecuteTime": {
     "end_time": "2020-05-31T19:47:29.152399Z",
     "start_time": "2020-05-31T19:46:39.952711Z"
    },
    "code_folding": []
   },
   "outputs": [],
   "source": [
    "#Генератор Датасетов\n",
    "random_position = np.array(['junior', 'middle', 'senior'])\n",
    "fake = Faker('ru_RU')\n",
    "\n",
    "for size_of_data in sizes_of_dataset:\n",
    "    with open(f'Data/dataset{size_of_data}.csv', 'w') as file:\n",
    "        file.write('ФИО' + ',' + 'Должность' + ',' + 'Подразделение' + ',' +\n",
    "                   'Зарплата' + '\\n')\n",
    "        for stri in range(size_of_data):\n",
    "            unit = ''.join(choice(ascii_lowercase) for i in range(5))\n",
    "            file.write(fake.last_name() + ' ' + fake.first_name() + ' ' +\n",
    "                       fake.middle_name() + ',' +\n",
    "                       np.random.choice(random_position) + ',' + unit + ',' +\n",
    "                       str(np.random.randint(15000, 50000)) + '\\n')"
   ]
  },
  {
   "cell_type": "code",
   "execution_count": 5,
   "metadata": {
    "ExecuteTime": {
     "end_time": "2020-05-31T19:48:58.074991Z",
     "start_time": "2020-05-31T19:48:58.047068Z"
    }
   },
   "outputs": [
    {
     "data": {
      "text/html": [
       "<div>\n",
       "<style scoped>\n",
       "    .dataframe tbody tr th:only-of-type {\n",
       "        vertical-align: middle;\n",
       "    }\n",
       "\n",
       "    .dataframe tbody tr th {\n",
       "        vertical-align: top;\n",
       "    }\n",
       "\n",
       "    .dataframe thead th {\n",
       "        text-align: right;\n",
       "    }\n",
       "</style>\n",
       "<table border=\"1\" class=\"dataframe\">\n",
       "  <thead>\n",
       "    <tr style=\"text-align: right;\">\n",
       "      <th></th>\n",
       "      <th>ФИО</th>\n",
       "      <th>Должность</th>\n",
       "      <th>Подразделение</th>\n",
       "      <th>Зарплата</th>\n",
       "    </tr>\n",
       "  </thead>\n",
       "  <tbody>\n",
       "    <tr>\n",
       "      <td>0</td>\n",
       "      <td>Туров Фадей Теймуразович</td>\n",
       "      <td>senior</td>\n",
       "      <td>zndcr</td>\n",
       "      <td>33223</td>\n",
       "    </tr>\n",
       "    <tr>\n",
       "      <td>1</td>\n",
       "      <td>Шашков Ярополк Иосипович</td>\n",
       "      <td>junior</td>\n",
       "      <td>zapuu</td>\n",
       "      <td>22978</td>\n",
       "    </tr>\n",
       "    <tr>\n",
       "      <td>2</td>\n",
       "      <td>Носова Евдоким Давыдович</td>\n",
       "      <td>middle</td>\n",
       "      <td>mgbua</td>\n",
       "      <td>24573</td>\n",
       "    </tr>\n",
       "    <tr>\n",
       "      <td>3</td>\n",
       "      <td>Филиппова Лука Ниловна</td>\n",
       "      <td>middle</td>\n",
       "      <td>ehjsc</td>\n",
       "      <td>42108</td>\n",
       "    </tr>\n",
       "    <tr>\n",
       "      <td>4</td>\n",
       "      <td>Волков Иннокентий Игоревич</td>\n",
       "      <td>middle</td>\n",
       "      <td>ltpxm</td>\n",
       "      <td>23487</td>\n",
       "    </tr>\n",
       "    <tr>\n",
       "      <td>...</td>\n",
       "      <td>...</td>\n",
       "      <td>...</td>\n",
       "      <td>...</td>\n",
       "      <td>...</td>\n",
       "    </tr>\n",
       "    <tr>\n",
       "      <td>95</td>\n",
       "      <td>Яковлев Гаврила Игоревна</td>\n",
       "      <td>junior</td>\n",
       "      <td>ohher</td>\n",
       "      <td>18403</td>\n",
       "    </tr>\n",
       "    <tr>\n",
       "      <td>96</td>\n",
       "      <td>Иванов Георгий Болеславовна</td>\n",
       "      <td>senior</td>\n",
       "      <td>yrqsh</td>\n",
       "      <td>33283</td>\n",
       "    </tr>\n",
       "    <tr>\n",
       "      <td>97</td>\n",
       "      <td>Лобанов Бажен Марсович</td>\n",
       "      <td>senior</td>\n",
       "      <td>ezuzr</td>\n",
       "      <td>21312</td>\n",
       "    </tr>\n",
       "    <tr>\n",
       "      <td>98</td>\n",
       "      <td>Кириллова Лазарь Ильинична</td>\n",
       "      <td>senior</td>\n",
       "      <td>oaoni</td>\n",
       "      <td>33363</td>\n",
       "    </tr>\n",
       "    <tr>\n",
       "      <td>99</td>\n",
       "      <td>Агафонов Афиноген Викентьевич</td>\n",
       "      <td>senior</td>\n",
       "      <td>oykei</td>\n",
       "      <td>24384</td>\n",
       "    </tr>\n",
       "  </tbody>\n",
       "</table>\n",
       "<p>100 rows × 4 columns</p>\n",
       "</div>"
      ],
      "text/plain": [
       "                              ФИО Должность Подразделение  Зарплата\n",
       "0        Туров Фадей Теймуразович    senior         zndcr     33223\n",
       "1        Шашков Ярополк Иосипович    junior         zapuu     22978\n",
       "2        Носова Евдоким Давыдович    middle         mgbua     24573\n",
       "3          Филиппова Лука Ниловна    middle         ehjsc     42108\n",
       "4      Волков Иннокентий Игоревич    middle         ltpxm     23487\n",
       "..                            ...       ...           ...       ...\n",
       "95       Яковлев Гаврила Игоревна    junior         ohher     18403\n",
       "96    Иванов Георгий Болеславовна    senior         yrqsh     33283\n",
       "97         Лобанов Бажен Марсович    senior         ezuzr     21312\n",
       "98     Кириллова Лазарь Ильинична    senior         oaoni     33363\n",
       "99  Агафонов Афиноген Викентьевич    senior         oykei     24384\n",
       "\n",
       "[100 rows x 4 columns]"
      ]
     },
     "execution_count": 5,
     "metadata": {},
     "output_type": "execute_result"
    }
   ],
   "source": [
    "pd.read_csv('Data\\dataset100.csv', encoding='cp1251')"
   ]
  },
  {
   "cell_type": "markdown",
   "metadata": {},
   "source": [
    "## Класс и перегрузка операторов "
   ]
  },
  {
   "cell_type": "code",
   "execution_count": 7,
   "metadata": {
    "ExecuteTime": {
     "end_time": "2020-05-31T19:49:36.104382Z",
     "start_time": "2020-05-31T19:49:36.069305Z"
    }
   },
   "outputs": [],
   "source": [
    "#Класс\n",
    "class Accounting:\n",
    "    \"\"\" \n",
    "    Класс для составления массив данных бухгалтерии.\n",
    "      \n",
    "    Attributes:  \n",
    "        Name (str): ФИО служащего\n",
    "        Position (str): Должность\n",
    "        Place (str): Подразделение\n",
    "        Salary (int): Зарплата\n",
    "    \"\"\"\n",
    "    def __init__(self, name, position, place, salary):\n",
    "        self.name = name\n",
    "        self.position = position\n",
    "        self.place = place\n",
    "        self.salary = salary\n",
    "\n",
    "    def __gt__(self, other):\n",
    "        \"\"\" \n",
    "        Перегрузка оператора \"больше >\" для класса Accounting. \n",
    "  \n",
    "        Параметры: \n",
    "           self (Countuing): Исходный объект класса  \n",
    "           other (Counting): Объект класса, с которым будет производиться сравнение.   \n",
    "           \n",
    "        Возвращаемое значение: Bool\n",
    "            True - исходный объект класса больше чем сравниваемый\n",
    "            False - исходный объект класса не больше (меньше или равен) чем сравниваемый\n",
    "        \"\"\"\n",
    "        if self.place > other.place:  #Проверяем Подразделение\n",
    "            return True\n",
    "        elif self.place == other.place:  #Если подразделения равны, сравниваем ФИО\n",
    "            if self.name > other.name:\n",
    "                return True\n",
    "            elif self.name == other.name:  #Если ФИО равны, сравниваем зарплату\n",
    "                if self.salary > other.salary:\n",
    "                    return True\n",
    "        return False\n",
    "\n",
    "    def __ge__(self, other):\n",
    "        \"\"\" \n",
    "        Перегрузка оператора \"больше или равно >=\" для класса Accounting. \n",
    "  \n",
    "        Параметры: \n",
    "           self (Countuing): Исходный объект класса  \n",
    "           other (Counting): Объект класса, с которым будет производиться сравнение.   \n",
    "           \n",
    "        Возвращаемое значение: Bool\n",
    "            True - исходный объект класса больше  чем сравниваемый или равен ему\n",
    "            False - исходный объект класса меньше чем сравниваемый\n",
    "        \"\"\"\n",
    "        if self.place >= other.place:\n",
    "            return True\n",
    "        elif self.place == other.place:\n",
    "            if self.name >= other.name:\n",
    "                return True\n",
    "            elif self.name == other.name:\n",
    "                if self.salary >= other.salary:\n",
    "                    return True\n",
    "        return False\n",
    "\n",
    "    def __le__(self, other):\n",
    "        \"\"\" \n",
    "        Перегрузка оператора \"меньше или равно <=\" для класса Accounting. \n",
    "  \n",
    "        Параметры: \n",
    "           self (Countuing): Исходный объект класса  \n",
    "           other (Counting): Объект класса, с которым будет производиться сравнение.   \n",
    "           \n",
    "        Возвращаемое значение: Bool\n",
    "            True - исходный объект класса меньше  чем сравниваемый или равен ему\n",
    "            False - исходный объект класса больше чем сравниваемый\n",
    "        \"\"\"\n",
    "        if self.place < other.place:\n",
    "            return True\n",
    "        elif self.place == other.place:\n",
    "            if self.name < other.name:\n",
    "                return True\n",
    "            elif self.name == other.name:\n",
    "                if self.salary < other.salary:\n",
    "                    return True\n",
    "        return False\n",
    "\n",
    "    def __lt__(self, other):\n",
    "        \"\"\" \n",
    "        Перегрузка оператора \"меньше <\" для класса Accounting. \n",
    "  \n",
    "        Параметры: \n",
    "           self (Countuing): Исходный объект класса  \n",
    "           other (Counting): Объект класса, с которым будет производиться сравнение.   \n",
    "           \n",
    "        Возвращаемое значение: Bool\n",
    "            True - исходный объект класса меньше чем сравниваемый\n",
    "            False - исходный объект класса не меньше  чем сравниваемый\n",
    "        \"\"\"\n",
    "        if self.place <= other.place:\n",
    "            return True\n",
    "        elif self.place == other.place:\n",
    "            if self.name <= other.name:\n",
    "                return True\n",
    "            elif self.name == other.name:\n",
    "                if self.salary <= other.salary:\n",
    "                    return True\n",
    "        return False\n",
    "\n",
    "    def __repr__(self):\n",
    "        \"\"\"\n",
    "        Строковое представление объекта\n",
    "        \n",
    "        self (Counting): Исходный объект класса\n",
    "        \"\"\"\n",
    "        return '%r' % self.__dict__"
   ]
  },
  {
   "cell_type": "code",
   "execution_count": 8,
   "metadata": {
    "ExecuteTime": {
     "end_time": "2020-05-31T19:49:36.126152Z",
     "start_time": "2020-05-31T19:49:36.109085Z"
    }
   },
   "outputs": [
    {
     "name": "stdout",
     "output_type": "stream",
     "text": [
      "Help on class Accounting in module __main__:\n",
      "\n",
      "class Accounting(builtins.object)\n",
      " |  Accounting(name, position, place, salary)\n",
      " |  \n",
      " |  Класс для составления массив данных бухгалтерии.\n",
      " |    \n",
      " |  Attributes:  \n",
      " |      Name (str): ФИО служащего\n",
      " |      Position (str): Должность\n",
      " |      Place (str): Подразделение\n",
      " |      Salary (int): Зарплата\n",
      " |  \n",
      " |  Methods defined here:\n",
      " |  \n",
      " |  __ge__(self, other)\n",
      " |      Перегрузка оператора \"больше или равно >=\" для класса Accounting. \n",
      " |      \n",
      " |      Параметры: \n",
      " |         self (Countuing): Исходный объект класса  \n",
      " |         other (Counting): Объект класса, с которым будет производиться сравнение.   \n",
      " |         \n",
      " |      Возвращаемое значение: Bool\n",
      " |          True - исходный объект класса больше  чем сравниваемый или равен ему\n",
      " |          False - исходный объект класса меньше чем сравниваемый\n",
      " |  \n",
      " |  __gt__(self, other)\n",
      " |      Перегрузка оператора \"больше >\" для класса Accounting. \n",
      " |      \n",
      " |      Параметры: \n",
      " |         self (Countuing): Исходный объект класса  \n",
      " |         other (Counting): Объект класса, с которым будет производиться сравнение.   \n",
      " |         \n",
      " |      Возвращаемое значение: Bool\n",
      " |          True - исходный объект класса больше чем сравниваемый\n",
      " |          False - исходный объект класса не больше (меньше или равен) чем сравниваемый\n",
      " |  \n",
      " |  __init__(self, name, position, place, salary)\n",
      " |      Initialize self.  See help(type(self)) for accurate signature.\n",
      " |  \n",
      " |  __le__(self, other)\n",
      " |      Перегрузка оператора \"меньше или равно <=\" для класса Accounting. \n",
      " |      \n",
      " |      Параметры: \n",
      " |         self (Countuing): Исходный объект класса  \n",
      " |         other (Counting): Объект класса, с которым будет производиться сравнение.   \n",
      " |         \n",
      " |      Возвращаемое значение: Bool\n",
      " |          True - исходный объект класса меньше  чем сравниваемый или равен ему\n",
      " |          False - исходный объект класса больше чем сравниваемый\n",
      " |  \n",
      " |  __lt__(self, other)\n",
      " |      Перегрузка оператора \"меньше <\" для класса Accounting. \n",
      " |      \n",
      " |      Параметры: \n",
      " |         self (Countuing): Исходный объект класса  \n",
      " |         other (Counting): Объект класса, с которым будет производиться сравнение.   \n",
      " |         \n",
      " |      Возвращаемое значение: Bool\n",
      " |          True - исходный объект класса меньше чем сравниваемый\n",
      " |          False - исходный объект класса не меньше  чем сравниваемый\n",
      " |  \n",
      " |  __repr__(self)\n",
      " |      Строковое представление объекта\n",
      " |      \n",
      " |      self (Counting): Исходный объект класса\n",
      " |  \n",
      " |  ----------------------------------------------------------------------\n",
      " |  Data descriptors defined here:\n",
      " |  \n",
      " |  __dict__\n",
      " |      dictionary for instance variables (if defined)\n",
      " |  \n",
      " |  __weakref__\n",
      " |      list of weak references to the object (if defined)\n",
      "\n"
     ]
    }
   ],
   "source": [
    "help(Accounting)"
   ]
  },
  {
   "cell_type": "markdown",
   "metadata": {},
   "source": [
    "## Алгоритмы сортировок "
   ]
  },
  {
   "cell_type": "code",
   "execution_count": 9,
   "metadata": {
    "ExecuteTime": {
     "end_time": "2020-05-31T19:49:36.153173Z",
     "start_time": "2020-05-31T19:49:36.130109Z"
    }
   },
   "outputs": [],
   "source": [
    "def shaker_sort(data):\n",
    "    \"\"\"\n",
    "    Алгоритм шейкер-сортировки\n",
    "    data - массив данных\n",
    "    shaker_sort(data) -> data\n",
    "    \"\"\"\n",
    "    for i in range(len(data) - 1, 0, -1):\n",
    "        swapped = False\n",
    "        for j in range(i, 0, -1):\n",
    "            if data[j] < data[j - 1]:\n",
    "                data[j], data[j - 1] = data[j - 1], data[j]\n",
    "                swapped = True\n",
    "        for j in range(i):\n",
    "            if data[j] > data[j + 1]:\n",
    "                data[j], data[j + 1] = data[j + 1], data[j]\n",
    "                swapped = True\n",
    "        if not swapped:\n",
    "            return data\n",
    "\n",
    "\n",
    "def insertion(data):\n",
    "    \"\"\" \n",
    "    Алгоритм сортировки вставками\n",
    "    data - массив данных\n",
    "    insertion(data) -> data \n",
    "    \"\"\"\n",
    "    for i in range(len(data)):\n",
    "        j = i - 1\n",
    "        key = data[i]\n",
    "        while data[j] > key and j >= 0:\n",
    "            data[j + 1] = data[j]\n",
    "            j -= 1\n",
    "        data[j + 1] = key\n",
    "    return data\n",
    "\n",
    "\n",
    "def merge_sort(data):\n",
    "    \"\"\" \n",
    "    Алгоритм сортировки слиянием\n",
    "    data - массив данных\n",
    "    merge_sort(data) -> data \n",
    "    \"\"\"\n",
    "    if len(data) > 1:\n",
    "        middle = len(data) // 2\n",
    "        lefthalf = data[:middle]\n",
    "        righthalf = data[middle:]\n",
    "        merge_sort(lefthalf)\n",
    "        merge_sort(righthalf)\n",
    "        i = 0\n",
    "        j = 0\n",
    "        count = 0\n",
    "        while i < len(lefthalf) and j < len(righthalf):\n",
    "            if lefthalf[i] < righthalf[j]:\n",
    "                data[count] = lefthalf[i]\n",
    "                i = i + 1\n",
    "            else:\n",
    "                data[count] = righthalf[j]\n",
    "                j = j + 1\n",
    "            count = count + 1\n",
    "\n",
    "        while i < len(lefthalf):\n",
    "            data[count] = lefthalf[i]\n",
    "            i = i + 1\n",
    "            count = count + 1\n",
    "\n",
    "        while j < len(righthalf):\n",
    "            data[count] = righthalf[j]\n",
    "            j = j + 1\n",
    "            count = count + 1\n",
    "    return data"
   ]
  },
  {
   "cell_type": "code",
   "execution_count": 10,
   "metadata": {
    "ExecuteTime": {
     "end_time": "2020-05-31T19:49:36.163088Z",
     "start_time": "2020-05-31T19:49:36.156039Z"
    }
   },
   "outputs": [
    {
     "name": "stdout",
     "output_type": "stream",
     "text": [
      "\n",
      "    Алгоритм шейкер-сортировки\n",
      "    data - массив данных\n",
      "    shaker_sort(data) -> data\n",
      "    \n",
      " \n",
      "    Алгоритм сортировки вставками\n",
      "    data - массив данных\n",
      "    insertion(data) -> data \n",
      "    \n",
      " \n",
      "    Алгоритм сортировки слиянием\n",
      "    data - массив данных\n",
      "    merge_sort(data) -> data \n",
      "    \n"
     ]
    }
   ],
   "source": [
    "print(shaker_sort.__doc__)\n",
    "print(insertion.__doc__)\n",
    "print(merge_sort.__doc__)"
   ]
  },
  {
   "cell_type": "markdown",
   "metadata": {},
   "source": [
    "## Сортировка"
   ]
  },
  {
   "cell_type": "code",
   "execution_count": 11,
   "metadata": {
    "ExecuteTime": {
     "end_time": "2020-06-01T01:09:43.317690Z",
     "start_time": "2020-05-31T19:49:36.167009Z"
    }
   },
   "outputs": [
    {
     "name": "stdout",
     "output_type": "stream",
     "text": [
      "Шейкер-сортировка, Размер 100, время работы 0.0012919902801513672\n",
      "Cортировка вставками, Размер 100, время работы 0.0007655620574951172\n",
      "Cортировка слиянием, Размер 100, время работы 0.0009980201721191406\n",
      "Шейкер-сортировка, Размер 500, время работы 0.06152939796447754\n",
      "Cортировка вставками, Размер 500, время работы 0.0\n",
      "Cортировка слиянием, Размер 500, время работы 0.0029921531677246094\n",
      "Шейкер-сортировка, Размер 1000, время работы 0.3543703556060791\n",
      "Cортировка вставками, Размер 1000, время работы 0.002032041549682617\n",
      "Cортировка слиянием, Размер 1000, время работы 0.006984233856201172\n",
      "Шейкер-сортировка, Размер 5000, время работы 16.7438862323761\n",
      "Cортировка вставками, Размер 5000, время работы 0.00401759147644043\n",
      "Cортировка слиянием, Размер 5000, время работы 0.04795217514038086\n",
      "Шейкер-сортировка, Размер 10000, время работы 37.74773573875427\n",
      "Cортировка вставками, Размер 10000, время работы 0.006981372833251953\n",
      "Cортировка слиянием, Размер 10000, время работы 0.046831607818603516\n",
      "Шейкер-сортировка, Размер 30000, время работы 377.86876225471497\n",
      "Cортировка вставками, Размер 30000, время работы 0.02094435691833496\n",
      "Cортировка слиянием, Размер 30000, время работы 0.17184114456176758\n",
      "Шейкер-сортировка, Размер 50000, время работы 1173.681473493576\n",
      "Cортировка вставками, Размер 50000, время работы 0.03123760223388672\n",
      "Cортировка слиянием, Размер 50000, время работы 0.29700803756713867\n",
      "Шейкер-сортировка, Размер 100000, время работы 7817.029133319855\n",
      "Cортировка вставками, Размер 100000, время работы 0.10084295272827148\n",
      "Cортировка слиянием, Размер 100000, время работы 1.0789589881896973\n"
     ]
    }
   ],
   "source": [
    "column_names = [\"ФИО\", \"Должность\", \"Подразделение\", 'Зарплата']\n",
    "shaker_sort_time, insertion_sort_time, merge_sort_time = [], [], []\n",
    "for size_of_data in sizes_of_dataset:\n",
    "    df = pd.read_csv(f'Data/dataset{size_of_data}.csv', encoding='cp1251')\n",
    "    list_of_classes = []\n",
    "    for i in range(1, len(df)):\n",
    "        strin = df.iloc[i]\n",
    "        list_of_classes.append(\n",
    "            Accounting(name=strin['ФИО'],\n",
    "                       position=strin['Должность'],\n",
    "                       place=strin['Подразделение'],\n",
    "                       salary=strin['Зарплата']))\n",
    "    start_time = time.time()\n",
    "    list_of_classes_sorted = shaker_sort(list_of_classes)\n",
    "    zx = time.time() - start_time\n",
    "    shaker_sort_time.append(zx)\n",
    "    new_df = pd.DataFrame(columns=column_names)\n",
    "    print(f\"Шейкер-сортировка, Размер {size_of_data}, время работы {zx}\")\n",
    "\n",
    "    for i in list_of_classes_sorted:\n",
    "        skf = [i.name, i.position, i.place, i.salary]\n",
    "        a_series = pd.Series(skf, index=new_df.columns)\n",
    "        new_df = new_df.append(a_series, ignore_index=True)\n",
    "    new_df.to_csv(f'sorted_shaker{size_of_data}.csv',\n",
    "                  encoding='cp1251',\n",
    "                  index=False)\n",
    "\n",
    "    start_time = time.time()\n",
    "    list_of_classes_sorted = insertion(list_of_classes)\n",
    "    zy = time.time() - start_time\n",
    "    insertion_sort_time.append(zy)\n",
    "    print(f\"Cортировка вставками, Размер {size_of_data}, время работы {zy}\")\n",
    "\n",
    "    for i in list_of_classes_sorted:\n",
    "        skf = [i.name, i.position, i.place, i.salary]\n",
    "        a_series = pd.Series(skf, index=new_df.columns)\n",
    "        new_df = new_df.append(a_series, ignore_index=True)\n",
    "    new_df.to_csv(f'sorted_insertion{size_of_data}.csv',\n",
    "                  encoding='cp1251',\n",
    "                  index=False)\n",
    "    new_df = pd.DataFrame(columns=column_names)\n",
    "\n",
    "    start_time = time.time()\n",
    "    list_of_classes_sorted = merge_sort(list_of_classes)\n",
    "    zz = time.time() - start_time\n",
    "    merge_sort_time.append(zz)\n",
    "    print(f\"Cортировка слиянием, Размер {size_of_data}, время работы {zz}\")\n",
    "\n",
    "    for i in list_of_classes_sorted:\n",
    "        skf = [i.name, i.position, i.place, i.salary]\n",
    "        a_series = pd.Series(skf, index=new_df.columns)\n",
    "        new_df = new_df.append(a_series, ignore_index=True)\n",
    "    new_df.to_csv(f'sorted_merge{size_of_data}.csv',\n",
    "                  encoding='cp1251',\n",
    "                  index=False)\n",
    "    new_df = pd.DataFrame(columns=column_names)"
   ]
  },
  {
   "cell_type": "markdown",
   "metadata": {},
   "source": [
    "## График скорости выполнения "
   ]
  },
  {
   "cell_type": "code",
   "execution_count": 13,
   "metadata": {
    "ExecuteTime": {
     "end_time": "2020-06-01T01:22:49.333348Z",
     "start_time": "2020-06-01T01:22:48.891180Z"
    }
   },
   "outputs": [
    {
     "data": {
      "text/plain": [
       "<matplotlib.legend.Legend at 0x16e34697f48>"
      ]
     },
     "execution_count": 13,
     "metadata": {},
     "output_type": "execute_result"
    },
    {
     "data": {
      "image/png": "[encoded data removed]",
      "text/plain": [
       "<Figure size 1152x576 with 1 Axes>"
      ]
     },
     "metadata": {
      "needs_background": "light"
     },
     "output_type": "display_data"
    }
   ],
   "source": [
    "fig, ax = plt.subplots(figsize=(16, 8))\n",
    "ax.plot(sizes_of_dataset, shaker_sort_time, label='Shaker Sort')\n",
    "ax.plot(sizes_of_dataset, insertion_sort_time, label='Insertion Sort')\n",
    "ax.plot(sizes_of_dataset, merge_sort_time, label='Merge Sort')\n",
    "ax.legend()"
   ]
  },
  {
   "cell_type": "code",
   "execution_count": 14,
   "metadata": {
    "ExecuteTime": {
     "end_time": "2020-06-01T01:23:13.384373Z",
     "start_time": "2020-06-01T01:23:12.769591Z"
    }
   },
   "outputs": [
    {
     "data": {
      "text/plain": [
       "<matplotlib.legend.Legend at 0x16e36565388>"
      ]
     },
     "execution_count": 14,
     "metadata": {},
     "output_type": "execute_result"
    },
    {
     "data": {
      "image/png": "[encoded data removed]",
      "text/plain": [
       "<Figure size 1152x576 with 1 Axes>"
      ]
     },
     "metadata": {
      "needs_background": "light"
     },
     "output_type": "display_data"
    }
   ],
   "source": [
    "fig, ax = plt.subplots(figsize=(16, 8))\n",
    "ax.plot(sizes_of_dataset, insertion_sort_time, label='Insertion Sort')\n",
    "ax.plot(sizes_of_dataset, merge_sort_time, label='Merge Sort')\n",
    "ax.legend()"
   ]
  },
  {
   "cell_type": "code",
   "execution_count": null,
   "metadata": {},
   "outputs": [],
   "source": []
  }
 ],
 "metadata": {
  "kernelspec": {
   "display_name": "Python 3",
   "language": "python",
   "name": "python3"
  },
  "language_info": {
   "codemirror_mode": {
    "name": "ipython",
    "version": 3
   },
   "file_extension": ".py",
   "mimetype": "text/x-python",
   "name": "python",
   "nbconvert_exporter": "python",
   "pygments_lexer": "ipython3",
   "version": "3.7.4"
  },
  "latex_envs": {
   "LaTeX_envs_menu_present": true,
   "autoclose": false,
   "autocomplete": true,
   "bibliofile": "biblio.bib",
   "cite_by": "apalike",
   "current_citInitial": 1,
   "eqLabelWithNumbers": true,
   "eqNumInitial": 1,
   "hotkeys": {
    "equation": "Ctrl-E",
    "itemize": "Ctrl-I"
   },
   "labels_anchors": false,
   "latex_user_defs": false,
   "report_style_numbering": false,
   "user_envs_cfg": false
  },
  "toc": {
   "base_numbering": 1,
   "nav_menu": {},
   "number_sections": true,
   "sideBar": true,
   "skip_h1_title": false,
   "title_cell": "Table of Contents",
   "title_sidebar": "Contents",
   "toc_cell": false,
   "toc_position": {},
   "toc_section_display": true,
   "toc_window_display": false
  }
 },
 "nbformat": 4,
 "nbformat_minor": 2
}

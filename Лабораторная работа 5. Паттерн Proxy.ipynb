{
 "cells": [
  {
   "cell_type": "markdown",
   "metadata": {},
   "source": [
    "## Лабороторная работа 5. Вариант 3"
   ]
  },
  {
   "cell_type": "markdown",
   "metadata": {},
   "source": [
    "Используя паттерн Proxy, реализовать просмотр прогноза погоды (прогноз находится, например, в файле). При этом необходимо запретить доступ к просмотру прогноза незарегистрированным пользователям и записать в лог имя пользователя, который просмотрел этот прогноз. "
   ]
  },
  {
   "cell_type": "code",
   "execution_count": 3,
   "metadata": {
    "ExecuteTime": {
     "end_time": "2020-06-01T01:04:01.815214Z",
     "start_time": "2020-06-01T01:04:01.811518Z"
    }
   },
   "outputs": [],
   "source": [
    "from abc import abstractmethod, ABC"
   ]
  },
  {
   "cell_type": "code",
   "execution_count": 4,
   "metadata": {
    "ExecuteTime": {
     "end_time": "2020-06-01T01:04:02.020318Z",
     "start_time": "2020-06-01T01:04:02.003464Z"
    },
    "code_folding": []
   },
   "outputs": [],
   "source": [
    "class Subject(ABC):\n",
    "    \"\"\"\n",
    "    Интерфейс Субъекта объявляет общие операции как для Реального Субъекта, так\n",
    "    и для Заместителя.\n",
    "    \n",
    "    \n",
    "    \"\"\"\n",
    "    @abstractmethod\n",
    "    def read(self) -> None:\n",
    "        \"\"\"\n",
    "    абстрактный метод, который будет определен в каждом классе\n",
    "        \"\"\"\n",
    "        pass\n",
    "\n",
    "\n",
    "class RealSubject(Subject):\n",
    "    \"\"\"\n",
    "    Реальный субъект\n",
    "    Subject - интерфейс субъекта\n",
    "    \n",
    "    \"\"\"\n",
    "    def read(self):\n",
    "        \"\"\"\n",
    "        Чтение погоды из файла\n",
    "        \n",
    "        \"\"\"\n",
    "        print('Real Subject: Reading')\n",
    "        with open('WeatherForecast.txt') as f:\n",
    "            forecast = f.read()\n",
    "            print(forecast)\n",
    "\n",
    "\n",
    "class Proxy(Subject):\n",
    "    \"\"\"\n",
    "    Интерфейс Заместителя идентичен интерфейсу Реального Субъекта.\n",
    "    Subject - интерфейс субъекта\n",
    "    \n",
    "    \"\"\"\n",
    "    def __init__(self, real_subject: Subject):\n",
    "        \"\"\"\n",
    "        name_of_user - Имя пользователя, который пытается получить доступ к файлу\n",
    "        real_subject - экземляр класса Subject\n",
    "        \n",
    "        \"\"\"\n",
    "        self.real_subject = real_subject\n",
    "        self.name_of_user = None\n",
    "\n",
    "    def take_name(self):\n",
    "        \"\"\"\n",
    "        Запрос имени пользователя\n",
    "        \"\"\"\n",
    "        print('Proxy: Input your name: ')\n",
    "        self.name_of_user = str(input())\n",
    "\n",
    "    def read(self):\n",
    "        \n",
    "        \"\"\"\n",
    "        Проверка доступа пользователя\n",
    "        \"\"\"\n",
    "        self.take_name()\n",
    "        if self.check_access(): # Если доступ есть\n",
    "            self.real_subject.read() # прочитать файл\n",
    "        else:\n",
    "            self.logger() # иначе записать в логгер\n",
    "\n",
    "    def check_access(self) -> bool:\n",
    "        \"\"\"\n",
    "        Проверка доступа к файлу\n",
    "        \"\"\"\n",
    "        print('Proxy: Checking the priority of user')\n",
    "        ls = ['Valera', 'Grisha', 'Tigran', 'Immanuil']\n",
    "        if self.name_of_user in ls:\n",
    "            print('You have access to see the forecast')\n",
    "            return True\n",
    "        else:\n",
    "            print('You don\\'t have acess to see the forecast')\n",
    "            return False\n",
    "\n",
    "    def logger(self) -> bool:\n",
    "        \"\"\"\n",
    "        Логгирование файл\n",
    "        \"\"\"\n",
    "        print('Proxy: logging user ')\n",
    "        with open(\"logger.txt\", \"a+\") as file:\n",
    "            file.write(self.name_of_user + '\\n')\n",
    "\n",
    "\n",
    "def code(subject: Subject):\n",
    "    \"\"\"\n",
    "    Код, который должен работать со всеми объектами (как с реальными, так и\n",
    "    заместителями) через интерфейс Субъекта, чтобы поддерживать как реальные\n",
    "    субъекты, так и заместителей.\n",
    "    \"\"\"\n",
    "    subject.read()"
   ]
  },
  {
   "cell_type": "code",
   "execution_count": 5,
   "metadata": {
    "ExecuteTime": {
     "end_time": "2020-06-01T01:04:50.673131Z",
     "start_time": "2020-06-01T01:04:50.667877Z"
    }
   },
   "outputs": [],
   "source": [
    "#Clean logger\n",
    "open('logger.txt', 'w').close()"
   ]
  },
  {
   "cell_type": "code",
   "execution_count": 6,
   "metadata": {
    "ExecuteTime": {
     "end_time": "2020-06-01T01:05:00.086236Z",
     "start_time": "2020-06-01T01:04:52.096930Z"
    }
   },
   "outputs": [
    {
     "name": "stdout",
     "output_type": "stream",
     "text": [
      "Запускаем код с реальным субъектом: \n",
      "Real Subject: Reading\n",
      "Tomorrow in Saint-Petersburg 10 degrees\n",
      "Запускаем тот же самый код с Proxy: \n",
      "Proxy: Input your name: \n",
      "Tigran\n",
      "Proxy: Checking the priority of user\n",
      "You have access to see the forecast\n",
      "Real Subject: Reading\n",
      "Tomorrow in Saint-Petersburg 10 degrees\n",
      "Proxy: Input your name: \n",
      "Sanya\n",
      "Proxy: Checking the priority of user\n",
      "You don't have acess to see the forecast\n",
      "Proxy: logging user \n",
      "Logger content is: Sanya\n",
      "\n"
     ]
    }
   ],
   "source": [
    "print('Запускаем код с реальным субъектом: ')\n",
    "real_subject = RealSubject()\n",
    "code(real_subject)\n",
    "\n",
    "print('Запускаем тот же самый код с Proxy: ')\n",
    "proxy = Proxy(real_subject)\n",
    "code(proxy)\n",
    "\n",
    "proxy_1 = Proxy(real_subject)\n",
    "code(proxy)\n",
    "\n",
    "with open('logger.txt', 'r') as f:\n",
    "    s = f.read()\n",
    "    print('Logger content is:', s)"
   ]
  },
  {
   "cell_type": "code",
   "execution_count": null,
   "metadata": {},
   "outputs": [],
   "source": []
  }
 ],
 "metadata": {
  "kernelspec": {
   "display_name": "Python 3",
   "language": "python",
   "name": "python3"
  },
  "language_info": {
   "codemirror_mode": {
    "name": "ipython",
    "version": 3
   },
   "file_extension": ".py",
   "mimetype": "text/x-python",
   "name": "python",
   "nbconvert_exporter": "python",
   "pygments_lexer": "ipython3",
   "version": "3.7.4"
  },
  "latex_envs": {
   "LaTeX_envs_menu_present": true,
   "autoclose": false,
   "autocomplete": true,
   "bibliofile": "biblio.bib",
   "cite_by": "apalike",
   "current_citInitial": 1,
   "eqLabelWithNumbers": true,
   "eqNumInitial": 1,
   "hotkeys": {
    "equation": "Ctrl-E",
    "itemize": "Ctrl-I"
   },
   "labels_anchors": false,
   "latex_user_defs": false,
   "report_style_numbering": false,
   "user_envs_cfg": false
  },
  "toc": {
   "base_numbering": 1,
   "nav_menu": {},
   "number_sections": true,
   "sideBar": true,
   "skip_h1_title": false,
   "title_cell": "Table of Contents",
   "title_sidebar": "Contents",
   "toc_cell": false,
   "toc_position": {},
   "toc_section_display": true,
   "toc_window_display": false
  }
 },
 "nbformat": 4,
 "nbformat_minor": 2
}

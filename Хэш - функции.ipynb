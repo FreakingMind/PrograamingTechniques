{
 "cells": [
  {
   "cell_type": "markdown",
   "metadata": {},
   "source": [
    "# Вариант 3 Алгоритмы Хэширования\n",
    "Простая и сложная хэш-функции"
   ]
  },
  {
   "cell_type": "code",
   "execution_count": 2,
   "metadata": {
    "ExecuteTime": {
     "end_time": "2020-05-30T22:53:07.126216Z",
     "start_time": "2020-05-30T22:53:03.024484Z"
    }
   },
   "outputs": [],
   "source": [
    "import random\n",
    "import time\n",
    "from collections import defaultdict\n",
    "\n",
    "import matplotlib.pyplot as plt\n",
    "import numpy as np\n",
    "import pandas as pd\n",
    "import seaborn as sns\n",
    "\n",
    "sns.set(style=\"darkgrid\")"
   ]
  },
  {
   "cell_type": "code",
   "execution_count": 3,
   "metadata": {
    "ExecuteTime": {
     "end_time": "2020-05-30T22:53:07.132201Z",
     "start_time": "2020-05-30T22:53:07.128211Z"
    }
   },
   "outputs": [],
   "source": [
    "sizes_of_dataset = np.array(\n",
    "    [100, 500, 1000, 5000, 10000, 30000, 50000, 100000]) #размер данных"
   ]
  },
  {
   "cell_type": "markdown",
   "metadata": {},
   "source": [
    "## Класс и перегрузка операторов "
   ]
  },
  {
   "cell_type": "code",
   "execution_count": 12,
   "metadata": {
    "ExecuteTime": {
     "end_time": "2020-05-30T22:56:25.381943Z",
     "start_time": "2020-05-30T22:56:25.373964Z"
    }
   },
   "outputs": [],
   "source": [
    "#Класс\n",
    "class Accounting:\n",
    "    \"\"\" \n",
    "    Класс для составления массив данных бухгалтерии.\n",
    "      \n",
    "    Attributes:  \n",
    "        Name (str): ФИО служащего\n",
    "        Position (str): Должность\n",
    "        Place (str): Подразделение\n",
    "        Salary (int): Зарплата\n",
    "    \"\"\"\n",
    "    def __init__(self, name, position, place, salary):\n",
    "        self.name = name\n",
    "        self.position = position\n",
    "        self.place = place\n",
    "        self.salary = salary\n",
    "    def __eq__(self, other):\n",
    "        if self.name == other:\n",
    "            return True\n",
    "        return False\n",
    "\n",
    "    def __gt__(self, other):\n",
    "        if self.name >= other:\n",
    "            return True\n",
    "        return False\n",
    "\n",
    "    def __ge__(self, other):\n",
    "        if self.name > other:\n",
    "            return True\n",
    "        return False\n",
    "\n",
    "    def __le__(self, other):\n",
    "        if self.name < other:\n",
    "            return True\n",
    "        return False\n",
    "\n",
    "    def __lt__(self, other):\n",
    "        if self.name <= other:\n",
    "            return True\n",
    "        return False\n",
    "\n",
    "    def __repr__(self):\n",
    "        return '%r' % self.__dict__"
   ]
  },
  {
   "cell_type": "markdown",
   "metadata": {},
   "source": [
    "## Алгоритмы поиска и сортировки "
   ]
  },
  {
   "cell_type": "code",
   "execution_count": 17,
   "metadata": {
    "ExecuteTime": {
     "end_time": "2020-05-30T22:56:56.253204Z",
     "start_time": "2020-05-30T22:56:56.242207Z"
    }
   },
   "outputs": [],
   "source": [
    "def binsearch(data, strop):\n",
    "    if len(data) == 0:\n",
    "        return 0\n",
    "    middle = len(data) // 2\n",
    "    if data[middle] == strop:\n",
    "        return(data[middle])\n",
    "    if data[middle] >= strop:\n",
    "        binsearch(data[:middle], strop)\n",
    "    if data[middle] <= strop:\n",
    "        binsearch(data[middle + 1:], strop)\n",
    "def linearsearch(data, strop):\n",
    "    \"\"\" Алгоритм линейного  поиска\n",
    "        data - массив данных\n",
    "        strop - искомый элемент\n",
    "        linearsearch(data,strop) -> None\n",
    "    \"\"\"\n",
    "    for i in data:\n",
    "        if i == strop:\n",
    "            return i\n",
    "        \n",
    "\n",
    "    \n",
    "def merge_sort(data):\n",
    "    if len(data) > 1:\n",
    "        middle = len(data) // 2\n",
    "        lefthalf = data[:middle]\n",
    "        righthalf = data[middle:]\n",
    "        merge_sort(lefthalf)\n",
    "        merge_sort(righthalf)\n",
    "        i = 0\n",
    "        j = 0\n",
    "        count = 0\n",
    "        while i < len(lefthalf) and j < len(righthalf):\n",
    "            if lefthalf[i] < righthalf[j]:\n",
    "                data[count] = lefthalf[i]\n",
    "                i = i + 1\n",
    "            else:\n",
    "                data[count] = righthalf[j]\n",
    "                j = j + 1\n",
    "            count = count + 1\n",
    "\n",
    "        while i < len(lefthalf):\n",
    "            data[count] = lefthalf[i]\n",
    "            i = i + 1\n",
    "            count = count + 1\n",
    "\n",
    "        while j < len(righthalf):\n",
    "            data[count] = righthalf[j]\n",
    "            j = j + 1\n",
    "            count = count + 1\n",
    "    return data"
   ]
  },
  {
   "cell_type": "markdown",
   "metadata": {},
   "source": [
    "## Алгоритмы хэширования "
   ]
  },
  {
   "cell_type": "code",
   "execution_count": 18,
   "metadata": {
    "ExecuteTime": {
     "end_time": "2020-05-30T22:56:57.727833Z",
     "start_time": "2020-05-30T22:56:57.722285Z"
    }
   },
   "outputs": [],
   "source": [
    "def easy_hash(stroka, p=67):\n",
    "        \"\"\"функция получения хэша строки (p=67)\"\"\"\n",
    "        curr_hash = ord(stroka[0])\n",
    "        for i in range(1, len(stroka)):\n",
    "            curr_hash += (ord(stroka[i])) * (p**i)\n",
    "        return curr_hash\n",
    "    \n",
    "def ly(stroka):\n",
    "        \"\"\"хэш - функция ly\"\"\"\n",
    "        curr_hash = 0\n",
    "        for i in range(0,len(stroka)):\n",
    "            curr_hash = (curr_hash * 1664525) + ord(stroka[i]) * 1013904223\n",
    "        return curr_hash"
   ]
  },
  {
   "cell_type": "markdown",
   "metadata": {},
   "source": [
    "## Хэш - таблица "
   ]
  },
  {
   "cell_type": "code",
   "execution_count": 25,
   "metadata": {
    "ExecuteTime": {
     "end_time": "2020-05-30T23:01:36.526937Z",
     "start_time": "2020-05-30T23:01:36.519958Z"
    },
    "code_folding": []
   },
   "outputs": [],
   "source": [
    "class HashTable():\n",
    "    \"\"\"Хэш - таблица\n",
    "      hashtable - таблица\n",
    "      number_of_collisions - счетчик коллизий\n",
    "    \"\"\"\n",
    "    def __init__(self):\n",
    "        self.hashtable = defaultdict(list)\n",
    "        self.number_of_collisions = 0\n",
    "        \n",
    "    def add_easy_hash(self, object):\n",
    "        \"\"\"Добавление простого хэша в таблицу\n",
    "           object: Экземпляр класса Accounting\n",
    "        \"\"\"\n",
    "        if easy_hash(object.name) in self.hashtable:\n",
    "            self.number_of_collisions+=1\n",
    "        self.hashtable[easy_hash(object.name)].append(object)\n",
    "\n",
    "    def add_hard_hash(self, object):\n",
    "        \"\"\"Добавление сложного хэша в таблицу\n",
    "           object: Экземпляр класса Accounting\n",
    "        \"\"\"\n",
    "        if ly(object.name) in self.hashtable:\n",
    "            self.number_of_collisions +=1\n",
    "        self.hashtable[ly(object.name)].append(object)\n",
    "\n",
    "    def search(self, hashing):\n",
    "        \"\"\"Поиск по хэш - таблице\n",
    "           hashing - искомый ключ\n",
    "        \"\"\"\n",
    "        return self.hashtable[hashing]"
   ]
  },
  {
   "cell_type": "markdown",
   "metadata": {},
   "source": [
    "## Создание хэш - таблицы и поиск"
   ]
  },
  {
   "cell_type": "code",
   "execution_count": 20,
   "metadata": {
    "ExecuteTime": {
     "end_time": "2020-05-30T22:59:21.845568Z",
     "start_time": "2020-05-30T22:57:00.595896Z"
    }
   },
   "outputs": [
    {
     "name": "stdout",
     "output_type": "stream",
     "text": [
      "--------------Датафрейм объема 100, ищем Мишина Митофан Гордеевич---------------\n",
      "Hash function: easy, [{'name': 'Мишина Митофан Гордеевич', 'position': 'senior', 'place': 'wpbcj', 'salary': 20647}] \n",
      "-------------Датафрейм объема 500, ищем Костина Борислав Борисовна--------------\n",
      "Hash function: easy, [{'name': 'Костина Борислав Борисовна', 'position': 'senior', 'place': 'prrdk', 'salary': 18714}] \n",
      "-------------Датафрейм объема 1000, ищем Фокина Мстислав Феликсович-------------\n",
      "Hash function: easy, [{'name': 'Фокина Мстислав Феликсович', 'position': 'junior', 'place': 'kkcpj', 'salary': 47054}] \n",
      "-------------Датафрейм объема 5000, ищем Мартынов Вацлав Игнатьевич-------------\n",
      "Hash function: easy, [{'name': 'Мартынов Вацлав Игнатьевич', 'position': 'junior', 'place': 'elhaz', 'salary': 38268}] \n",
      "------------Датафрейм объема 10000, ищем Соловьев Еремей Харламович-------------\n",
      "Hash function: easy, [{'name': 'Соловьев Еремей Харламович', 'position': 'senior', 'place': 'mqbdh', 'salary': 36684}] \n",
      "-----------Датафрейм объема 30000, ищем Кузьмина Анастасия Борисович------------\n",
      "Hash function: easy, [{'name': 'Кузьмина Анастасия Борисович', 'position': 'junior', 'place': 'tlcmr', 'salary': 49392}] \n",
      "------------Датафрейм объема 50000, ищем Блинов Мечислав Аркадьевна-------------\n",
      "Hash function: easy, [{'name': 'Блинов Мечислав Аркадьевна', 'position': 'middle', 'place': 'ptsqk', 'salary': 43616}] \n",
      "-------------Датафрейм объема 100000, ищем Ильина Викторин Ефимович-------------\n",
      "Hash function: easy, [{'name': 'Ильина Викторин Ефимович', 'position': 'middle', 'place': 'ptyfw', 'salary': 46868}] \n",
      "--------------Датафрейм объема 100, ищем Фадеева Владлен Авдеевич---------------\n",
      "Hash function: ly, [{'name': 'Фадеева Владлен Авдеевич', 'position': 'junior', 'place': 'ecrml', 'salary': 48807}, {'name': 'Фадеева Владлен Авдеевич', 'position': 'junior', 'place': 'ecrml', 'salary': 48807}] \n",
      "-------------Датафрейм объема 500, ищем Носкова Зиновий Эдуардович--------------\n",
      "Hash function: ly, [{'name': 'Носкова Зиновий Эдуардович', 'position': 'senior', 'place': 'dttej', 'salary': 26829}, {'name': 'Носкова Зиновий Эдуардович', 'position': 'senior', 'place': 'dttej', 'salary': 26829}] \n",
      "-------------Датафрейм объема 1000, ищем Андреев Мечислав Олеговна--------------\n",
      "Hash function: ly, [{'name': 'Андреев Мечислав Олеговна', 'position': 'senior', 'place': 'jzkgu', 'salary': 17694}, {'name': 'Андреев Мечислав Олеговна', 'position': 'senior', 'place': 'jzkgu', 'salary': 17694}] \n",
      "--------------Датафрейм объема 5000, ищем Агафонов Мина Эльдаровна--------------\n",
      "Hash function: ly, [{'name': 'Агафонов Мина Эльдаровна', 'position': 'senior', 'place': 'wdmos', 'salary': 46626}, {'name': 'Агафонов Мина Эльдаровна', 'position': 'senior', 'place': 'wdmos', 'salary': 46626}] \n",
      "--------------Датафрейм объема 10000, ищем Мухина Зиновий Власович--------------\n",
      "Hash function: ly, [{'name': 'Мухина Зиновий Власович', 'position': 'middle', 'place': 'uocsg', 'salary': 46075}, {'name': 'Мухина Зиновий Власович', 'position': 'middle', 'place': 'uocsg', 'salary': 46075}] \n",
      "-----------Датафрейм объема 30000, ищем Хохлова Элеонора Афанасьевна------------\n",
      "Hash function: ly, [{'name': 'Хохлова Элеонора Афанасьевна', 'position': 'junior', 'place': 'lzcuy', 'salary': 15505}, {'name': 'Хохлова Элеонора Афанасьевна', 'position': 'junior', 'place': 'lzcuy', 'salary': 15505}] \n",
      "--------------Датафрейм объема 50000, ищем Блохина Фрол Матвеевич---------------\n",
      "Hash function: ly, [{'name': 'Блохина Фрол Матвеевич', 'position': 'junior', 'place': 'aflrk', 'salary': 23137}, {'name': 'Блохина Фрол Матвеевич', 'position': 'junior', 'place': 'aflrk', 'salary': 23137}] \n",
      "----------Датафрейм объема 100000, ищем Никитина Любосмысл Кирилловна-----------\n",
      "Hash function: ly, [{'name': 'Никитина Любосмысл Кирилловна', 'position': 'senior', 'place': 'ydcqk', 'salary': 35457}, {'name': 'Никитина Любосмысл Кирилловна', 'position': 'senior', 'place': 'ydcqk', 'salary': 35457}] \n"
     ]
    }
   ],
   "source": [
    "\n",
    "binsearch_in_unsorted,list_of_classes,list_of_collisions_easy,time_list_easy,time_list_hard,\\\n",
    "list_of_collisions_hard,binsearch_in_sorted,linear_search_time =[],[], [],[],[],[],[],[]\n",
    "\n",
    "for hashs in ['easy', 'ly']:\n",
    "    for size_of_data in sizes_of_dataset:\n",
    "        df = pd.read_csv(f'Data/dataset{size_of_data}.csv', encoding='cp1251')\n",
    "        findings = random.choice(df['ФИО'])\n",
    "        for i in range(1, len(df)):\n",
    "            strin = df.iloc[i]\n",
    "            list_of_classes.append(\n",
    "                Accounting(name=strin['ФИО'],\n",
    "                           position=strin['Должность'],\n",
    "                           place=strin['Подразделение'],\n",
    "                           salary=strin['Зарплата']))\n",
    "\n",
    "        z = HashTable()\n",
    "        if hashs == 'easy':\n",
    "            for i in list_of_classes:\n",
    "                z.add_easy_hash(i)\n",
    "            current_hash = easy_hash(findings)\n",
    "            start_time = time.time()\n",
    "            hash_to_find = z.search(current_hash)\n",
    "            zx = time.time() - start_time\n",
    "            print(f'Датафрейм объема {size_of_data}, ищем {findings}'.center(\n",
    "                80, '-'))\n",
    "            print(f'Hash function: {hashs}, {hash_to_find} ')\n",
    "            list_of_collisions_easy.append(z.number_of_collisions)\n",
    "            time_list_easy.append(zx)\n",
    "        y = HashTable()\n",
    "        if hashs == 'ly':\n",
    "            for i in list_of_classes:\n",
    "                y.add_hard_hash(i)\n",
    "            current_hash = ly(findings)\n",
    "            start_time = time.time()\n",
    "            hash_to_find = y.search(current_hash)\n",
    "            zx = time.time() - start_time\n",
    "            print(f'Датафрейм объема {size_of_data}, ищем {findings}'.center(\n",
    "                80, '-'))\n",
    "            print(f'Hash function: {hashs}, {hash_to_find} ')\n",
    "            list_of_collisions_hard.append(z.number_of_collisions)\n",
    "            time_list_hard.append(zx)\n",
    "            start_time = time.time()\n",
    "            list_of_classes_sorted = merge_sort(list_of_classes)\n",
    "            binsearch(list_of_classes, findings)\n",
    "            zx = time.time() - start_time\n",
    "            binsearch_in_unsorted.append(zx)\n",
    "\n",
    "            start_time = time.time()\n",
    "            linearsearch(list_of_classes, findings)\n",
    "            zy = time.time() - start_time\n",
    "            linear_search_time.append(zy)\n",
    "\n",
    "            start_time = time.time()\n",
    "            binsearch(list_of_classes_sorted, findings)\n",
    "            zz = time.time() - start_time\n",
    "            binsearch_in_sorted.append(zz)"
   ]
  },
  {
   "cell_type": "markdown",
   "metadata": {},
   "source": [
    "## Графики скорости выполнения "
   ]
  },
  {
   "cell_type": "code",
   "execution_count": 23,
   "metadata": {
    "ExecuteTime": {
     "end_time": "2020-05-30T22:59:56.652818Z",
     "start_time": "2020-05-30T22:59:56.350607Z"
    }
   },
   "outputs": [
    {
     "data": {
      "text/plain": [
       "Text(0.5, 1.0, 'Сравнение скорости поиска в зависимости от объема данных')"
      ]
     },
     "execution_count": 23,
     "metadata": {},
     "output_type": "execute_result"
    },
    {
     "data": {
      "image/png": "[encoded data removed]",
      "text/plain": [
       "<Figure size 1152x576 with 1 Axes>"
      ]
     },
     "metadata": {
      "needs_background": "light"
     },
     "output_type": "display_data"
    }
   ],
   "source": [
    "fig, ax = plt.subplots(figsize=(16, 8))\n",
    "\n",
    "ax.plot(sizes_of_dataset,\n",
    "        binsearch_in_sorted,\n",
    "        label='Бинарный поиск в отсортированном')\n",
    "ax.plot(sizes_of_dataset, linear_search_time, label='Линейный поиск')\n",
    "ax.plot(sizes_of_dataset,time_list_easy, label = 'Поиск по Легкому Хэшу')\n",
    "ax.plot(sizes_of_dataset,time_list_hard, label = 'Поиск по Сложному Хэшу')\n",
    "ax.legend()\n",
    "ax.set_title('Сравнение скорости поиска в зависимости от объема данных')\n"
   ]
  },
  {
   "cell_type": "markdown",
   "metadata": {},
   "source": [
    "## Сравнение количества коллизий "
   ]
  },
  {
   "cell_type": "code",
   "execution_count": 24,
   "metadata": {
    "ExecuteTime": {
     "end_time": "2020-05-30T23:00:08.810024Z",
     "start_time": "2020-05-30T23:00:08.535217Z"
    }
   },
   "outputs": [
    {
     "data": {
      "text/plain": [
       "Text(0.5, 1.0, 'Сравнение количества колизий в зависимости от объема данных')"
      ]
     },
     "execution_count": 24,
     "metadata": {},
     "output_type": "execute_result"
    },
    {
     "data": {
      "image/png": "[encoded data removed]",
      "text/plain": [
       "<Figure size 1152x576 with 1 Axes>"
      ]
     },
     "metadata": {
      "needs_background": "light"
     },
     "output_type": "display_data"
    }
   ],
   "source": [
    "fig, ax = plt.subplots(figsize=(16, 8))\n",
    "ax.plot(sizes_of_dataset,list_of_collisions_easy, label = 'Легкий Хэш')\n",
    "ax.plot(sizes_of_dataset,list_of_collisions_hard, label = 'Сложный Хэш')\n",
    "ax.legend()\n",
    "ax.set_title('Сравнение количества колизий в зависимости от объема данных')"
   ]
  },
  {
   "cell_type": "code",
   "execution_count": null,
   "metadata": {},
   "outputs": [],
   "source": []
  }
 ],
 "metadata": {
  "kernelspec": {
   "display_name": "Python 3",
   "language": "python",
   "name": "python3"
  },
  "language_info": {
   "codemirror_mode": {
    "name": "ipython",
    "version": 3
   },
   "file_extension": ".py",
   "mimetype": "text/x-python",
   "name": "python",
   "nbconvert_exporter": "python",
   "pygments_lexer": "ipython3",
   "version": "3.7.4"
  },
  "latex_envs": {
   "LaTeX_envs_menu_present": true,
   "autoclose": false,
   "autocomplete": true,
   "bibliofile": "biblio.bib",
   "cite_by": "apalike",
   "current_citInitial": 1,
   "eqLabelWithNumbers": true,
   "eqNumInitial": 1,
   "hotkeys": {
    "equation": "Ctrl-E",
    "itemize": "Ctrl-I"
   },
   "labels_anchors": false,
   "latex_user_defs": false,
   "report_style_numbering": false,
   "user_envs_cfg": false
  },
  "toc": {
   "base_numbering": 1,
   "nav_menu": {},
   "number_sections": true,
   "sideBar": true,
   "skip_h1_title": false,
   "title_cell": "Table of Contents",
   "title_sidebar": "Contents",
   "toc_cell": false,
   "toc_position": {},
   "toc_section_display": true,
   "toc_window_display": false
  }
 },
 "nbformat": 4,
 "nbformat_minor": 2
}
